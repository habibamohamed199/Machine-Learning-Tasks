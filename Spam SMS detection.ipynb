{
 "cells": [
  {
   "cell_type": "code",
   "execution_count": null,
   "id": "88454397",
   "metadata": {
    "execution": {
     "iopub.execute_input": "2024-11-20T20:23:26.415839Z",
     "iopub.status.busy": "2024-11-20T20:23:26.415416Z",
     "iopub.status.idle": "2024-11-20T20:23:30.260505Z",
     "shell.execute_reply": "2024-11-20T20:23:30.259180Z"
    },
    "executionInfo": {
     "elapsed": 2246,
     "status": "ok",
     "timestamp": 1732122593947,
     "user": {
      "displayName": "Nourhan Karm",
      "userId": "16602278186486198266"
     },
     "user_tz": -120
    },
    "id": "ZaKdd06Nar1W",
    "outputId": "e8d027e0-c7dd-428b-a6f2-0a83fb82330b",
    "papermill": {
     "duration": 3.858348,
     "end_time": "2024-11-20T20:23:30.263834",
     "exception": false,
     "start_time": "2024-11-20T20:23:26.405486",
     "status": "completed"
    },
    "tags": []
   },
   "outputs": [
    {
     "name": "stdout",
     "output_type": "stream",
     "text": [
      "[nltk_data] Downloading package stopwords to /usr/share/nltk_data...\n",
      "[nltk_data]   Package stopwords is already up-to-date!\n",
      "[nltk_data] Downloading package punkt to /usr/share/nltk_data...\n",
      "[nltk_data]   Package punkt is already up-to-date!\n",
      "[nltk_data] Downloading package wordnet to /usr/share/nltk_data...\n",
      "[nltk_data]   Package wordnet is already up-to-date!\n"
     ]
    }
   ],
   "source": [
    "import numpy as np        \n",
    "import pandas as pd       \n",
    "import matplotlib.pyplot as plt  \n",
    "import nltk\n",
    "from nltk.corpus import stopwords\n",
    "import re"
   ]
  },
  {
   "cell_type": "code",
   "execution_count": 2,
   "id": "5ef28d15",
   "metadata": {
    "execution": {
     "iopub.execute_input": "2024-11-20T20:23:30.301601Z",
     "iopub.status.busy": "2024-11-20T20:23:30.301057Z",
     "iopub.status.idle": "2024-11-20T20:23:30.347529Z",
     "shell.execute_reply": "2024-11-20T20:23:30.346448Z"
    },
    "executionInfo": {
     "elapsed": 30,
     "status": "ok",
     "timestamp": 1732122593948,
     "user": {
      "displayName": "Nourhan Karm",
      "userId": "16602278186486198266"
     },
     "user_tz": -120
    },
    "id": "Jd8tziv3bQ91",
    "papermill": {
     "duration": 0.059091,
     "end_time": "2024-11-20T20:23:30.350029",
     "exception": false,
     "start_time": "2024-11-20T20:23:30.290938",
     "status": "completed"
    },
    "tags": []
   },
   "outputs": [],
   "source": [
    "data = pd.read_csv('/kaggle/input/sms-spam-collection-dataset/spam.csv', encoding='latin1')\n"
   ]
  },
  {
   "cell_type": "markdown",
   "id": "9164f1ef",
   "metadata": {
    "papermill": {
     "duration": 0.008202,
     "end_time": "2024-11-20T20:23:30.366915",
     "exception": false,
     "start_time": "2024-11-20T20:23:30.358713",
     "status": "completed"
    },
    "tags": []
   },
   "source": [
    "encoding='latin1': Specifies the character encoding used in the file.The \"latin1\" encoding is often used when the dataset contains special characters not handled by the default encoding (utf-8)."
   ]
  },
  {
   "cell_type": "code",
   "execution_count": 3,
   "id": "87a66554",
   "metadata": {
    "execution": {
     "iopub.execute_input": "2024-11-20T20:23:30.385526Z",
     "iopub.status.busy": "2024-11-20T20:23:30.385125Z",
     "iopub.status.idle": "2024-11-20T20:23:30.407301Z",
     "shell.execute_reply": "2024-11-20T20:23:30.406181Z"
    },
    "executionInfo": {
     "elapsed": 30,
     "status": "ok",
     "timestamp": 1732122593948,
     "user": {
      "displayName": "Nourhan Karm",
      "userId": "16602278186486198266"
     },
     "user_tz": -120
    },
    "id": "6Y3Y732Ubi6y",
    "outputId": "3d4df69f-bca0-48d6-d2c1-0c9f6521740e",
    "papermill": {
     "duration": 0.034447,
     "end_time": "2024-11-20T20:23:30.409866",
     "exception": false,
     "start_time": "2024-11-20T20:23:30.375419",
     "status": "completed"
    },
    "tags": []
   },
   "outputs": [
    {
     "data": {
      "text/html": [
       "<div>\n",
       "<style scoped>\n",
       "    .dataframe tbody tr th:only-of-type {\n",
       "        vertical-align: middle;\n",
       "    }\n",
       "\n",
       "    .dataframe tbody tr th {\n",
       "        vertical-align: top;\n",
       "    }\n",
       "\n",
       "    .dataframe thead th {\n",
       "        text-align: right;\n",
       "    }\n",
       "</style>\n",
       "<table border=\"1\" class=\"dataframe\">\n",
       "  <thead>\n",
       "    <tr style=\"text-align: right;\">\n",
       "      <th></th>\n",
       "      <th>v1</th>\n",
       "      <th>v2</th>\n",
       "      <th>Unnamed: 2</th>\n",
       "      <th>Unnamed: 3</th>\n",
       "      <th>Unnamed: 4</th>\n",
       "    </tr>\n",
       "  </thead>\n",
       "  <tbody>\n",
       "    <tr>\n",
       "      <th>0</th>\n",
       "      <td>ham</td>\n",
       "      <td>Go until jurong point, crazy.. Available only ...</td>\n",
       "      <td>NaN</td>\n",
       "      <td>NaN</td>\n",
       "      <td>NaN</td>\n",
       "    </tr>\n",
       "    <tr>\n",
       "      <th>1</th>\n",
       "      <td>ham</td>\n",
       "      <td>Ok lar... Joking wif u oni...</td>\n",
       "      <td>NaN</td>\n",
       "      <td>NaN</td>\n",
       "      <td>NaN</td>\n",
       "    </tr>\n",
       "    <tr>\n",
       "      <th>2</th>\n",
       "      <td>spam</td>\n",
       "      <td>Free entry in 2 a wkly comp to win FA Cup fina...</td>\n",
       "      <td>NaN</td>\n",
       "      <td>NaN</td>\n",
       "      <td>NaN</td>\n",
       "    </tr>\n",
       "    <tr>\n",
       "      <th>3</th>\n",
       "      <td>ham</td>\n",
       "      <td>U dun say so early hor... U c already then say...</td>\n",
       "      <td>NaN</td>\n",
       "      <td>NaN</td>\n",
       "      <td>NaN</td>\n",
       "    </tr>\n",
       "    <tr>\n",
       "      <th>4</th>\n",
       "      <td>ham</td>\n",
       "      <td>Nah I don't think he goes to usf, he lives aro...</td>\n",
       "      <td>NaN</td>\n",
       "      <td>NaN</td>\n",
       "      <td>NaN</td>\n",
       "    </tr>\n",
       "  </tbody>\n",
       "</table>\n",
       "</div>"
      ],
      "text/plain": [
       "     v1                                                 v2 Unnamed: 2  \\\n",
       "0   ham  Go until jurong point, crazy.. Available only ...        NaN   \n",
       "1   ham                      Ok lar... Joking wif u oni...        NaN   \n",
       "2  spam  Free entry in 2 a wkly comp to win FA Cup fina...        NaN   \n",
       "3   ham  U dun say so early hor... U c already then say...        NaN   \n",
       "4   ham  Nah I don't think he goes to usf, he lives aro...        NaN   \n",
       "\n",
       "  Unnamed: 3 Unnamed: 4  \n",
       "0        NaN        NaN  \n",
       "1        NaN        NaN  \n",
       "2        NaN        NaN  \n",
       "3        NaN        NaN  \n",
       "4        NaN        NaN  "
      ]
     },
     "execution_count": 3,
     "metadata": {},
     "output_type": "execute_result"
    }
   ],
   "source": [
    "data.head(5)"
   ]
  },
  {
   "cell_type": "code",
   "execution_count": 4,
   "id": "85b8cb8a",
   "metadata": {
    "execution": {
     "iopub.execute_input": "2024-11-20T20:23:30.485403Z",
     "iopub.status.busy": "2024-11-20T20:23:30.484988Z",
     "iopub.status.idle": "2024-11-20T20:23:30.516302Z",
     "shell.execute_reply": "2024-11-20T20:23:30.515159Z"
    },
    "executionInfo": {
     "elapsed": 30,
     "status": "ok",
     "timestamp": 1732122593951,
     "user": {
      "displayName": "Nourhan Karm",
      "userId": "16602278186486198266"
     },
     "user_tz": -120
    },
    "id": "64j5ZogCdesr",
    "outputId": "6212da92-3e78-4302-f75a-41c6847c5d76",
    "papermill": {
     "duration": 0.043967,
     "end_time": "2024-11-20T20:23:30.518732",
     "exception": false,
     "start_time": "2024-11-20T20:23:30.474765",
     "status": "completed"
    },
    "tags": []
   },
   "outputs": [
    {
     "name": "stdout",
     "output_type": "stream",
     "text": [
      "<class 'pandas.core.frame.DataFrame'>\n",
      "RangeIndex: 5572 entries, 0 to 5571\n",
      "Data columns (total 5 columns):\n",
      " #   Column      Non-Null Count  Dtype \n",
      "---  ------      --------------  ----- \n",
      " 0   v1          5572 non-null   object\n",
      " 1   v2          5572 non-null   object\n",
      " 2   Unnamed: 2  50 non-null     object\n",
      " 3   Unnamed: 3  12 non-null     object\n",
      " 4   Unnamed: 4  6 non-null      object\n",
      "dtypes: object(5)\n",
      "memory usage: 217.8+ KB\n"
     ]
    }
   ],
   "source": [
    "data.info()"
   ]
  },
  {
   "cell_type": "code",
   "execution_count": null,
   "id": "57927be2",
   "metadata": {
    "execution": {
     "iopub.execute_input": "2024-11-20T20:23:30.538325Z",
     "iopub.status.busy": "2024-11-20T20:23:30.537947Z",
     "iopub.status.idle": "2024-11-20T20:23:30.546284Z",
     "shell.execute_reply": "2024-11-20T20:23:30.545096Z"
    },
    "executionInfo": {
     "elapsed": 28,
     "status": "ok",
     "timestamp": 1732122593952,
     "user": {
      "displayName": "Nourhan Karm",
      "userId": "16602278186486198266"
     },
     "user_tz": -120
    },
    "id": "OtNBFso6depD",
    "papermill": {
     "duration": 0.020655,
     "end_time": "2024-11-20T20:23:30.548547",
     "exception": false,
     "start_time": "2024-11-20T20:23:30.527892",
     "status": "completed"
    },
    "tags": []
   },
   "outputs": [],
   "source": [
    "data.drop(columns = ['Unnamed: 2', 'Unnamed: 3', 'Unnamed: 4'], inplace = True)"
   ]
  },
  {
   "cell_type": "code",
   "execution_count": null,
   "id": "d68fe566",
   "metadata": {
    "execution": {
     "iopub.execute_input": "2024-11-20T20:23:30.569302Z",
     "iopub.status.busy": "2024-11-20T20:23:30.568912Z",
     "iopub.status.idle": "2024-11-20T20:23:30.574519Z",
     "shell.execute_reply": "2024-11-20T20:23:30.573440Z"
    },
    "executionInfo": {
     "elapsed": 27,
     "status": "ok",
     "timestamp": 1732122593952,
     "user": {
      "displayName": "Nourhan Karm",
      "userId": "16602278186486198266"
     },
     "user_tz": -120
    },
    "id": "NQoA_e87demf",
    "papermill": {
     "duration": 0.018682,
     "end_time": "2024-11-20T20:23:30.576742",
     "exception": false,
     "start_time": "2024-11-20T20:23:30.558060",
     "status": "completed"
    },
    "tags": []
   },
   "outputs": [],
   "source": [
    "data.rename(columns = {'v1': 'target', 'v2': 'text'}, inplace = True)"
   ]
  },
  {
   "cell_type": "code",
   "execution_count": null,
   "id": "ce34d8ce",
   "metadata": {
    "execution": {
     "iopub.execute_input": "2024-11-20T20:23:30.597455Z",
     "iopub.status.busy": "2024-11-20T20:23:30.597047Z",
     "iopub.status.idle": "2024-11-20T20:23:30.605240Z",
     "shell.execute_reply": "2024-11-20T20:23:30.604022Z"
    },
    "executionInfo": {
     "elapsed": 27,
     "status": "ok",
     "timestamp": 1732122593952,
     "user": {
      "displayName": "Nourhan Karm",
      "userId": "16602278186486198266"
     },
     "user_tz": -120
    },
    "id": "EDHmgCR7fOYa",
    "outputId": "1baa90a0-620e-4c17-dc0e-764aeac9fb1b",
    "papermill": {
     "duration": 0.021308,
     "end_time": "2024-11-20T20:23:30.607499",
     "exception": false,
     "start_time": "2024-11-20T20:23:30.586191",
     "status": "completed"
    },
    "tags": []
   },
   "outputs": [
    {
     "name": "stdout",
     "output_type": "stream",
     "text": [
      "target\n",
      "ham     4825\n",
      "spam     747\n",
      "Name: count, dtype: int64\n"
     ]
    }
   ],
   "source": [
    "counts = data['target'].value_counts()\n",
    "\n",
    "print(counts)"
   ]
  },
  {
   "cell_type": "code",
   "execution_count": null,
   "id": "43b2c2ba",
   "metadata": {
    "execution": {
     "iopub.execute_input": "2024-11-20T20:23:30.645023Z",
     "iopub.status.busy": "2024-11-20T20:23:30.644589Z",
     "iopub.status.idle": "2024-11-20T20:23:30.651835Z",
     "shell.execute_reply": "2024-11-20T20:23:30.650747Z"
    },
    "executionInfo": {
     "elapsed": 24,
     "status": "ok",
     "timestamp": 1732122593952,
     "user": {
      "displayName": "Nourhan Karm",
      "userId": "16602278186486198266"
     },
     "user_tz": -120
    },
    "id": "accHWCShdekO",
    "papermill": {
     "duration": 0.020207,
     "end_time": "2024-11-20T20:23:30.654134",
     "exception": false,
     "start_time": "2024-11-20T20:23:30.633927",
     "status": "completed"
    },
    "tags": []
   },
   "outputs": [],
   "source": [
    "from sklearn.preprocessing import LabelEncoder\n",
    "encoder = LabelEncoder()\n",
    "data['target'] = encoder.fit_transform(data['target'])"
   ]
  },
  {
   "cell_type": "code",
   "execution_count": 9,
   "id": "f92c4d54",
   "metadata": {
    "execution": {
     "iopub.execute_input": "2024-11-20T20:23:30.674217Z",
     "iopub.status.busy": "2024-11-20T20:23:30.673586Z",
     "iopub.status.idle": "2024-11-20T20:23:30.684206Z",
     "shell.execute_reply": "2024-11-20T20:23:30.682963Z"
    },
    "executionInfo": {
     "elapsed": 24,
     "status": "ok",
     "timestamp": 1732122593952,
     "user": {
      "displayName": "Nourhan Karm",
      "userId": "16602278186486198266"
     },
     "user_tz": -120
    },
    "id": "3YgMaXQIeMrv",
    "outputId": "8c805ffc-955d-4e2a-c71d-5c374abdc1c7",
    "papermill": {
     "duration": 0.023622,
     "end_time": "2024-11-20T20:23:30.686785",
     "exception": false,
     "start_time": "2024-11-20T20:23:30.663163",
     "status": "completed"
    },
    "tags": []
   },
   "outputs": [
    {
     "data": {
      "text/html": [
       "<div>\n",
       "<style scoped>\n",
       "    .dataframe tbody tr th:only-of-type {\n",
       "        vertical-align: middle;\n",
       "    }\n",
       "\n",
       "    .dataframe tbody tr th {\n",
       "        vertical-align: top;\n",
       "    }\n",
       "\n",
       "    .dataframe thead th {\n",
       "        text-align: right;\n",
       "    }\n",
       "</style>\n",
       "<table border=\"1\" class=\"dataframe\">\n",
       "  <thead>\n",
       "    <tr style=\"text-align: right;\">\n",
       "      <th></th>\n",
       "      <th>target</th>\n",
       "      <th>text</th>\n",
       "    </tr>\n",
       "  </thead>\n",
       "  <tbody>\n",
       "    <tr>\n",
       "      <th>0</th>\n",
       "      <td>0</td>\n",
       "      <td>Go until jurong point, crazy.. Available only ...</td>\n",
       "    </tr>\n",
       "    <tr>\n",
       "      <th>1</th>\n",
       "      <td>0</td>\n",
       "      <td>Ok lar... Joking wif u oni...</td>\n",
       "    </tr>\n",
       "    <tr>\n",
       "      <th>2</th>\n",
       "      <td>1</td>\n",
       "      <td>Free entry in 2 a wkly comp to win FA Cup fina...</td>\n",
       "    </tr>\n",
       "    <tr>\n",
       "      <th>3</th>\n",
       "      <td>0</td>\n",
       "      <td>U dun say so early hor... U c already then say...</td>\n",
       "    </tr>\n",
       "    <tr>\n",
       "      <th>4</th>\n",
       "      <td>0</td>\n",
       "      <td>Nah I don't think he goes to usf, he lives aro...</td>\n",
       "    </tr>\n",
       "  </tbody>\n",
       "</table>\n",
       "</div>"
      ],
      "text/plain": [
       "   target                                               text\n",
       "0       0  Go until jurong point, crazy.. Available only ...\n",
       "1       0                      Ok lar... Joking wif u oni...\n",
       "2       1  Free entry in 2 a wkly comp to win FA Cup fina...\n",
       "3       0  U dun say so early hor... U c already then say...\n",
       "4       0  Nah I don't think he goes to usf, he lives aro..."
      ]
     },
     "execution_count": 9,
     "metadata": {},
     "output_type": "execute_result"
    }
   ],
   "source": [
    "data.head(5)"
   ]
  },
  {
   "cell_type": "code",
   "execution_count": 10,
   "id": "e4d04454",
   "metadata": {
    "execution": {
     "iopub.execute_input": "2024-11-20T20:23:30.707132Z",
     "iopub.status.busy": "2024-11-20T20:23:30.706710Z",
     "iopub.status.idle": "2024-11-20T20:23:30.716372Z",
     "shell.execute_reply": "2024-11-20T20:23:30.715176Z"
    },
    "executionInfo": {
     "elapsed": 23,
     "status": "ok",
     "timestamp": 1732122593953,
     "user": {
      "displayName": "Nourhan Karm",
      "userId": "16602278186486198266"
     },
     "user_tz": -120
    },
    "id": "ohvPlbcPeMoW",
    "outputId": "a100c51d-cb06-4984-cb3e-422db8841437",
    "papermill": {
     "duration": 0.022728,
     "end_time": "2024-11-20T20:23:30.718803",
     "exception": false,
     "start_time": "2024-11-20T20:23:30.696075",
     "status": "completed"
    },
    "tags": []
   },
   "outputs": [
    {
     "data": {
      "text/plain": [
       "target    0\n",
       "text      0\n",
       "dtype: int64"
      ]
     },
     "execution_count": 10,
     "metadata": {},
     "output_type": "execute_result"
    }
   ],
   "source": [
    "data.isnull().sum()"
   ]
  },
  {
   "cell_type": "code",
   "execution_count": null,
   "id": "99e0de14",
   "metadata": {
    "execution": {
     "iopub.execute_input": "2024-11-20T20:23:30.741865Z",
     "iopub.status.busy": "2024-11-20T20:23:30.740733Z",
     "iopub.status.idle": "2024-11-20T20:23:30.751852Z",
     "shell.execute_reply": "2024-11-20T20:23:30.750552Z"
    },
    "executionInfo": {
     "elapsed": 21,
     "status": "ok",
     "timestamp": 1732122593953,
     "user": {
      "displayName": "Nourhan Karm",
      "userId": "16602278186486198266"
     },
     "user_tz": -120
    },
    "id": "tQA2FApYeMmF",
    "outputId": "e9479af1-cff9-47e7-8fd1-e8280c2aff17",
    "papermill": {
     "duration": 0.024928,
     "end_time": "2024-11-20T20:23:30.754212",
     "exception": false,
     "start_time": "2024-11-20T20:23:30.729284",
     "status": "completed"
    },
    "tags": []
   },
   "outputs": [
    {
     "data": {
      "text/plain": [
       "403"
      ]
     },
     "execution_count": 11,
     "metadata": {},
     "output_type": "execute_result"
    }
   ],
   "source": [
    "data.duplicated().sum()"
   ]
  },
  {
   "cell_type": "code",
   "execution_count": null,
   "id": "f438c2b7",
   "metadata": {
    "execution": {
     "iopub.execute_input": "2024-11-20T20:23:30.776462Z",
     "iopub.status.busy": "2024-11-20T20:23:30.776028Z",
     "iopub.status.idle": "2024-11-20T20:23:30.786325Z",
     "shell.execute_reply": "2024-11-20T20:23:30.785102Z"
    },
    "executionInfo": {
     "elapsed": 19,
     "status": "ok",
     "timestamp": 1732122593953,
     "user": {
      "displayName": "Nourhan Karm",
      "userId": "16602278186486198266"
     },
     "user_tz": -120
    },
    "id": "WaCUjnVseapQ",
    "papermill": {
     "duration": 0.024711,
     "end_time": "2024-11-20T20:23:30.788819",
     "exception": false,
     "start_time": "2024-11-20T20:23:30.764108",
     "status": "completed"
    },
    "tags": []
   },
   "outputs": [],
   "source": [
    "data = data.drop_duplicates(keep = 'first')\n"
   ]
  },
  {
   "cell_type": "code",
   "execution_count": 13,
   "id": "d1beb2d2",
   "metadata": {
    "execution": {
     "iopub.execute_input": "2024-11-20T20:23:30.811529Z",
     "iopub.status.busy": "2024-11-20T20:23:30.811107Z",
     "iopub.status.idle": "2024-11-20T20:23:30.819119Z",
     "shell.execute_reply": "2024-11-20T20:23:30.817774Z"
    },
    "executionInfo": {
     "elapsed": 19,
     "status": "ok",
     "timestamp": 1732122593953,
     "user": {
      "displayName": "Nourhan Karm",
      "userId": "16602278186486198266"
     },
     "user_tz": -120
    },
    "id": "Enc27BAGeal0",
    "outputId": "05753161-741b-4b09-b73d-a225a1191af2",
    "papermill": {
     "duration": 0.022981,
     "end_time": "2024-11-20T20:23:30.821895",
     "exception": false,
     "start_time": "2024-11-20T20:23:30.798914",
     "status": "completed"
    },
    "tags": []
   },
   "outputs": [
    {
     "data": {
      "text/plain": [
       "(5169, 2)"
      ]
     },
     "execution_count": 13,
     "metadata": {},
     "output_type": "execute_result"
    }
   ],
   "source": [
    "data.shape"
   ]
  },
  {
   "cell_type": "code",
   "execution_count": null,
   "id": "3ec0e8e1",
   "metadata": {
    "execution": {
     "iopub.execute_input": "2024-11-20T20:23:30.883406Z",
     "iopub.status.busy": "2024-11-20T20:23:30.882990Z",
     "iopub.status.idle": "2024-11-20T20:23:31.686277Z",
     "shell.execute_reply": "2024-11-20T20:23:31.684972Z"
    },
    "executionInfo": {
     "elapsed": 456,
     "status": "ok",
     "timestamp": 1732122594392,
     "user": {
      "displayName": "Nourhan Karm",
      "userId": "16602278186486198266"
     },
     "user_tz": -120
    },
    "id": "DKnRRs1jcZeP",
    "outputId": "1b3d9742-0479-473f-9525-1d4d166ef2f6",
    "papermill": {
     "duration": 0.816522,
     "end_time": "2024-11-20T20:23:31.688793",
     "exception": false,
     "start_time": "2024-11-20T20:23:30.872271",
     "status": "completed"
    },
    "tags": []
   },
   "outputs": [
    {
     "data": {
      "image/png": "[encoded data removed]",
      "text/plain": [
       "<Figure size 640x480 with 1 Axes>"
      ]
     },
     "metadata": {},
     "output_type": "display_data"
    }
   ],
   "source": [
    "from matplotlib import pyplot as plt\n",
    "import seaborn as sns\n",
    "data.groupby('target').size().plot(\n",
    "    kind='barh',\n",
    "    color=sns.color_palette('coolwarm', n_colors=2)\n",
    "\n",
    "plt.gca().spines[['top', 'right']].set_visible(False)\n",
    "plt.xlabel('Count')\n",
    "plt.ylabel('Category')\n",
    "plt.title('Category Distribution')\n",
    "plt.show()\n"
   ]
  },
  {
   "cell_type": "code",
   "execution_count": null,
   "id": "9e9bf4d6",
   "metadata": {
    "execution": {
     "iopub.execute_input": "2024-11-20T20:23:31.730738Z",
     "iopub.status.busy": "2024-11-20T20:23:31.730143Z",
     "iopub.status.idle": "2024-11-20T20:23:31.871952Z",
     "shell.execute_reply": "2024-11-20T20:23:31.870219Z"
    },
    "executionInfo": {
     "elapsed": 8,
     "status": "ok",
     "timestamp": 1732122594393,
     "user": {
      "displayName": "Nourhan Karm",
      "userId": "16602278186486198266"
     },
     "user_tz": -120
    },
    "id": "3pBRa5FwcTpm",
    "outputId": "f71886ca-d0aa-4de2-dd18-fea048c02a2a",
    "papermill": {
     "duration": 0.157276,
     "end_time": "2024-11-20T20:23:31.876294",
     "exception": false,
     "start_time": "2024-11-20T20:23:31.719018",
     "status": "completed"
    },
    "tags": []
   },
   "outputs": [
    {
     "data": {
      "image/png": "[encoded data removed]",
      "text/plain": [
       "<Figure size 300x300 with 1 Axes>"
      ]
     },
     "metadata": {},
     "output_type": "display_data"
    }
   ],
   "source": [
    "from matplotlib import pyplot as plt\n",
    "\n",
    "counts = data['target'].value_counts()\n",
    "\n",
    "\n",
    "labels = ['Ham', 'Spam']\n",
    "colors = ['#FFC0CB', '#FF69B4']  \n",
    "plt.figure(figsize=(3, 3))\n",
    "plt.pie(\n",
    "    counts,\n",
    "    labels=labels,\n",
    "    colors=colors,\n",
    "    autopct='%1.1f%%',  \n",
    "    startangle=90,      \n",
    "    explode=(0.1, 0)    \n",
    ")\n",
    "\n",
    "plt.title('Distribution of Ham and Spam Emails')\n",
    "plt.show()\n"
   ]
  },
  {
   "cell_type": "code",
   "execution_count": null,
   "id": "10add5f8",
   "metadata": {
    "execution": {
     "iopub.execute_input": "2024-11-20T20:23:32.202630Z",
     "iopub.status.busy": "2024-11-20T20:23:32.202226Z",
     "iopub.status.idle": "2024-11-20T20:24:16.269686Z",
     "shell.execute_reply": "2024-11-20T20:24:16.268730Z"
    },
    "papermill": {
     "duration": 44.082257,
     "end_time": "2024-11-20T20:24:16.272079",
     "exception": false,
     "start_time": "2024-11-20T20:23:32.189822",
     "status": "completed"
    },
    "tags": []
   },
   "outputs": [],
   "source": [
    "import spacy\n",
    "\n",
    "\n",
    "X, y = data.text, data.target \n",
    "nlp = spacy.load(\"en_core_web_sm\")\n",
    "\n",
    "documents = []\n",
    "for sen in range(0, len(X)):\n",
    "\n",
    "    document = re.sub(r'\\W', ' ', str(X.iloc[sen]))\n",
    "    document = re.sub(r'\\s+[a-zA-Z]\\s+', ' ', document)\n",
    "    document = re.sub(r'\\^[a-zA-Z]\\s+', ' ', document)\n",
    "    document = re.sub(r'\\s+', ' ', document, flags=re.I)\n",
    "    document = re.sub(r'^b\\s+', '', document)\n",
    "\n",
    "   \n",
    "    document = document.lower()\n",
    "\n",
    "   \n",
    "    doc = nlp(document)\n",
    "    document = ' '.join([token.lemma_ for token in doc])\n",
    "    documents.append(document)\n"
   ]
  },
  {
   "cell_type": "code",
   "execution_count": 21,
   "id": "9b0f0b8f",
   "metadata": {
    "execution": {
     "iopub.execute_input": "2024-11-20T20:24:16.398149Z",
     "iopub.status.busy": "2024-11-20T20:24:16.397153Z",
     "iopub.status.idle": "2024-11-20T20:24:16.585725Z",
     "shell.execute_reply": "2024-11-20T20:24:16.584592Z"
    },
    "executionInfo": {
     "elapsed": 277,
     "status": "ok",
     "timestamp": 1732123039498,
     "user": {
      "displayName": "Nourhan Karm",
      "userId": "16602278186486198266"
     },
     "user_tz": -120
    },
    "id": "TWDeOuyxkf2f",
    "papermill": {
     "duration": 0.202636,
     "end_time": "2024-11-20T20:24:16.588197",
     "exception": false,
     "start_time": "2024-11-20T20:24:16.385561",
     "status": "completed"
    },
    "tags": []
   },
   "outputs": [],
   "source": [
    "from sklearn.feature_extraction.text import TfidfVectorizer\n",
    "tfidfconverter = TfidfVectorizer(max_features=1500, min_df=5, max_df=0.7, stop_words=stopwords.words('english'))\n",
    "X = tfidfconverter.fit_transform(documents).toarray()"
   ]
  },
  {
   "cell_type": "code",
   "execution_count": 22,
   "id": "dabe6b8e",
   "metadata": {
    "execution": {
     "iopub.execute_input": "2024-11-20T20:24:16.611156Z",
     "iopub.status.busy": "2024-11-20T20:24:16.610737Z",
     "iopub.status.idle": "2024-11-20T20:24:16.651425Z",
     "shell.execute_reply": "2024-11-20T20:24:16.650455Z"
    },
    "executionInfo": {
     "elapsed": 284,
     "status": "ok",
     "timestamp": 1732123049878,
     "user": {
      "displayName": "Nourhan Karm",
      "userId": "16602278186486198266"
     },
     "user_tz": -120
    },
    "id": "D3la5sqalBRx",
    "papermill": {
     "duration": 0.054984,
     "end_time": "2024-11-20T20:24:16.653807",
     "exception": false,
     "start_time": "2024-11-20T20:24:16.598823",
     "status": "completed"
    },
    "tags": []
   },
   "outputs": [],
   "source": [
    "from sklearn.model_selection import train_test_split\n",
    "X_train, X_test, y_train, y_test = train_test_split(X, y, test_size=0.2, random_state=0)"
   ]
  },
  {
   "cell_type": "code",
   "execution_count": 23,
   "id": "bb485bfb",
   "metadata": {
    "execution": {
     "iopub.execute_input": "2024-11-20T20:24:16.676422Z",
     "iopub.status.busy": "2024-11-20T20:24:16.676049Z",
     "iopub.status.idle": "2024-11-20T20:25:07.167930Z",
     "shell.execute_reply": "2024-11-20T20:25:07.166796Z"
    },
    "executionInfo": {
     "elapsed": 93203,
     "status": "ok",
     "timestamp": 1732123153402,
     "user": {
      "displayName": "Nourhan Karm",
      "userId": "16602278186486198266"
     },
     "user_tz": -120
    },
    "id": "TTp-59l_lDzy",
    "outputId": "eeccaeff-7db4-430a-86c2-3d59f91879d8",
    "papermill": {
     "duration": 50.515775,
     "end_time": "2024-11-20T20:25:07.179982",
     "exception": false,
     "start_time": "2024-11-20T20:24:16.664207",
     "status": "completed"
    },
    "tags": []
   },
   "outputs": [
    {
     "data": {
      "text/html": [
       "<style>#sk-container-id-1 {color: black;background-color: white;}#sk-container-id-1 pre{padding: 0;}#sk-container-id-1 div.sk-toggleable {background-color: white;}#sk-container-id-1 label.sk-toggleable__label {cursor: pointer;display: block;width: 100%;margin-bottom: 0;padding: 0.3em;box-sizing: border-box;text-align: center;}#sk-container-id-1 label.sk-toggleable__label-arrow:before {content: \"▸\";float: left;margin-right: 0.25em;color: #696969;}#sk-container-id-1 label.sk-toggleable__label-arrow:hover:before {color: black;}#sk-container-id-1 div.sk-estimator:hover label.sk-toggleable__label-arrow:before {color: black;}#sk-container-id-1 div.sk-toggleable__content {max-height: 0;max-width: 0;overflow: hidden;text-align: left;background-color: #f0f8ff;}#sk-container-id-1 div.sk-toggleable__content pre {margin: 0.2em;color: black;border-radius: 0.25em;background-color: #f0f8ff;}#sk-container-id-1 input.sk-toggleable__control:checked~div.sk-toggleable__content {max-height: 200px;max-width: 100%;overflow: auto;}#sk-container-id-1 input.sk-toggleable__control:checked~label.sk-toggleable__label-arrow:before {content: \"▾\";}#sk-container-id-1 div.sk-estimator input.sk-toggleable__control:checked~label.sk-toggleable__label {background-color: #d4ebff;}#sk-container-id-1 div.sk-label input.sk-toggleable__control:checked~label.sk-toggleable__label {background-color: #d4ebff;}#sk-container-id-1 input.sk-hidden--visually {border: 0;clip: rect(1px 1px 1px 1px);clip: rect(1px, 1px, 1px, 1px);height: 1px;margin: -1px;overflow: hidden;padding: 0;position: absolute;width: 1px;}#sk-container-id-1 div.sk-estimator {font-family: monospace;background-color: #f0f8ff;border: 1px dotted black;border-radius: 0.25em;box-sizing: border-box;margin-bottom: 0.5em;}#sk-container-id-1 div.sk-estimator:hover {background-color: #d4ebff;}#sk-container-id-1 div.sk-parallel-item::after {content: \"\";width: 100%;border-bottom: 1px solid gray;flex-grow: 1;}#sk-container-id-1 div.sk-label:hover label.sk-toggleable__label {background-color: #d4ebff;}#sk-container-id-1 div.sk-serial::before {content: \"\";position: absolute;border-left: 1px solid gray;box-sizing: border-box;top: 0;bottom: 0;left: 50%;z-index: 0;}#sk-container-id-1 div.sk-serial {display: flex;flex-direction: column;align-items: center;background-color: white;padding-right: 0.2em;padding-left: 0.2em;position: relative;}#sk-container-id-1 div.sk-item {position: relative;z-index: 1;}#sk-container-id-1 div.sk-parallel {display: flex;align-items: stretch;justify-content: center;background-color: white;position: relative;}#sk-container-id-1 div.sk-item::before, #sk-container-id-1 div.sk-parallel-item::before {content: \"\";position: absolute;border-left: 1px solid gray;box-sizing: border-box;top: 0;bottom: 0;left: 50%;z-index: -1;}#sk-container-id-1 div.sk-parallel-item {display: flex;flex-direction: column;z-index: 1;position: relative;background-color: white;}#sk-container-id-1 div.sk-parallel-item:first-child::after {align-self: flex-end;width: 50%;}#sk-container-id-1 div.sk-parallel-item:last-child::after {align-self: flex-start;width: 50%;}#sk-container-id-1 div.sk-parallel-item:only-child::after {width: 0;}#sk-container-id-1 div.sk-dashed-wrapped {border: 1px dashed gray;margin: 0 0.4em 0.5em 0.4em;box-sizing: border-box;padding-bottom: 0.4em;background-color: white;}#sk-container-id-1 div.sk-label label {font-family: monospace;font-weight: bold;display: inline-block;line-height: 1.2em;}#sk-container-id-1 div.sk-label-container {text-align: center;}#sk-container-id-1 div.sk-container {/* jupyter's `normalize.less` sets `[hidden] { display: none; }` but bootstrap.min.css set `[hidden] { display: none !important; }` so we also need the `!important` here to be able to override the default hidden behavior on the sphinx rendered scikit-learn.org. See: https://github.com/scikit-learn/scikit-learn/issues/21755 */display: inline-block !important;position: relative;}#sk-container-id-1 div.sk-text-repr-fallback {display: none;}</style><div id=\"sk-container-id-1\" class=\"sk-top-container\"><div class=\"sk-text-repr-fallback\"><pre>RandomForestClassifier(n_estimators=1000, random_state=0)</pre><b>In a Jupyter environment, please rerun this cell to show the HTML representation or trust the notebook. <br />On GitHub, the HTML representation is unable to render, please try loading this page with nbviewer.org.</b></div><div class=\"sk-container\" hidden><div class=\"sk-item\"><div class=\"sk-estimator sk-toggleable\"><input class=\"sk-toggleable__control sk-hidden--visually\" id=\"sk-estimator-id-1\" type=\"checkbox\" checked><label for=\"sk-estimator-id-1\" class=\"sk-toggleable__label sk-toggleable__label-arrow\">RandomForestClassifier</label><div class=\"sk-toggleable__content\"><pre>RandomForestClassifier(n_estimators=1000, random_state=0)</pre></div></div></div></div></div>"
      ],
      "text/plain": [
       "RandomForestClassifier(n_estimators=1000, random_state=0)"
      ]
     },
     "execution_count": 23,
     "metadata": {},
     "output_type": "execute_result"
    }
   ],
   "source": [
    "from sklearn.ensemble import RandomForestClassifier\n",
    "\n",
    "classifier = RandomForestClassifier(n_estimators=1000, random_state=0)\n",
    "classifier.fit(X_train, y_train)"
   ]
  },
  {
   "cell_type": "code",
   "execution_count": 24,
   "id": "8b5258bf",
   "metadata": {
    "execution": {
     "iopub.execute_input": "2024-11-20T20:25:07.203928Z",
     "iopub.status.busy": "2024-11-20T20:25:07.203482Z",
     "iopub.status.idle": "2024-11-20T20:25:07.757883Z",
     "shell.execute_reply": "2024-11-20T20:25:07.756739Z"
    },
    "executionInfo": {
     "elapsed": 413,
     "status": "ok",
     "timestamp": 1732123153814,
     "user": {
      "displayName": "Nourhan Karm",
      "userId": "16602278186486198266"
     },
     "user_tz": -120
    },
    "id": "RNeDadnwlGZK",
    "papermill": {
     "duration": 0.569158,
     "end_time": "2024-11-20T20:25:07.760420",
     "exception": false,
     "start_time": "2024-11-20T20:25:07.191262",
     "status": "completed"
    },
    "tags": []
   },
   "outputs": [],
   "source": [
    "y_pred = classifier.predict(X_test)"
   ]
  },
  {
   "cell_type": "code",
   "execution_count": 25,
   "id": "3c9f9ddc",
   "metadata": {
    "execution": {
     "iopub.execute_input": "2024-11-20T20:25:07.783324Z",
     "iopub.status.busy": "2024-11-20T20:25:07.782917Z",
     "iopub.status.idle": "2024-11-20T20:25:07.802742Z",
     "shell.execute_reply": "2024-11-20T20:25:07.801489Z"
    },
    "executionInfo": {
     "elapsed": 5,
     "status": "ok",
     "timestamp": 1732123153814,
     "user": {
      "displayName": "Nourhan Karm",
      "userId": "16602278186486198266"
     },
     "user_tz": -120
    },
    "id": "9Y1JdaWwlQpG",
    "outputId": "d8f83f7c-87fa-4228-9eac-bfe0d2b08cd1",
    "papermill": {
     "duration": 0.0336,
     "end_time": "2024-11-20T20:25:07.804803",
     "exception": false,
     "start_time": "2024-11-20T20:25:07.771203",
     "status": "completed"
    },
    "tags": []
   },
   "outputs": [
    {
     "name": "stdout",
     "output_type": "stream",
     "text": [
      "[[884   1]\n",
      " [ 18 131]]\n",
      "              precision    recall  f1-score   support\n",
      "\n",
      "           0       0.98      1.00      0.99       885\n",
      "           1       0.99      0.88      0.93       149\n",
      "\n",
      "    accuracy                           0.98      1034\n",
      "   macro avg       0.99      0.94      0.96      1034\n",
      "weighted avg       0.98      0.98      0.98      1034\n",
      "\n",
      "0.9816247582205029\n"
     ]
    }
   ],
   "source": [
    "from sklearn.metrics import classification_report, confusion_matrix, accuracy_score\n",
    "\n",
    "print(confusion_matrix(y_test,y_pred))\n",
    "print(classification_report(y_test,y_pred))\n",
    "print(accuracy_score(y_test, y_pred))"
   ]
  },
  {
   "cell_type": "code",
   "execution_count": null,
   "id": "835bf11a",
   "metadata": {
    "execution": {
     "iopub.execute_input": "2024-11-20T20:25:07.827902Z",
     "iopub.status.busy": "2024-11-20T20:25:07.827503Z",
     "iopub.status.idle": "2024-11-20T20:25:08.430292Z",
     "shell.execute_reply": "2024-11-20T20:25:08.429049Z"
    },
    "executionInfo": {
     "elapsed": 708,
     "status": "ok",
     "timestamp": 1732123470314,
     "user": {
      "displayName": "Nourhan Karm",
      "userId": "16602278186486198266"
     },
     "user_tz": -120
    },
    "id": "gn_0SbdOlSdF",
    "outputId": "45511801-8e7d-484e-a6d9-d73d2d4cd67c",
    "papermill": {
     "duration": 0.617186,
     "end_time": "2024-11-20T20:25:08.432819",
     "exception": false,
     "start_time": "2024-11-20T20:25:07.815633",
     "status": "completed"
    },
    "tags": []
   },
   "outputs": [
    {
     "data": {
      "image/png": "[encoded data removed]",
      "text/plain": [
       "<Figure size 800x600 with 1 Axes>"
      ]
     },
     "metadata": {},
     "output_type": "display_data"
    },
    {
     "data": {
      "image/png": "[encoded data removed]",
      "text/plain": [
       "<Figure size 800x600 with 1 Axes>"
      ]
     },
     "metadata": {},
     "output_type": "display_data"
    }
   ],
   "source": [
    "cm = confusion_matrix(y_test, y_pred)  \n",
    "plt.figure(figsize=(8, 6))\n",
    "sns.heatmap(cm, annot=True, fmt='d', cmap='Blues', cbar=False,\n",
    "            xticklabels=['Ham', 'Spam'], yticklabels=['Ham', 'Spam'])\n",
    "\n",
    "\n",
    "plt.xlabel('Predicted Labels', fontsize=12)\n",
    "plt.ylabel('True Labels', fontsize=12)\n",
    "plt.title('Confusion Matrix', fontsize=14)\n",
    "plt.show()\n",
    "\n",
    "report = classification_report(y_test, y_pred, output_dict=True)\n",
    "\n",
    "import pandas as pd\n",
    "report_df = pd.DataFrame(report).transpose()\n",
    "\n",
    "plt.figure(figsize=(8, 6))\n",
    "sns.heatmap(report_df.iloc[:-1, :].T, annot=True, cmap='coolwarm', cbar=False)\n",
    "plt.title('Classification Report', fontsize=14)\n",
    "plt.show()\n"
   ]
  }
 ],
 "metadata": {
  "colab": {
   "authorship_tag": "ABX9TyNWcj/n3uAe0EUhz8ysZswl",
   "provenance": []
  },
  "kaggle": {
   "accelerator": "none",
   "dataSources": [
    {
     "datasetId": 483,
     "sourceId": 982,
     "sourceType": "datasetVersion"
    }
   ],
   "dockerImageVersionId": 30786,
   "isGpuEnabled": false,
   "isInternetEnabled": true,
   "language": "python",
   "sourceType": "notebook"
  },
  "kernelspec": {
   "display_name": "base",
   "language": "python",
   "name": "python3"
  },
  "language_info": {
   "codemirror_mode": {
    "name": "ipython",
    "version": 3
   },
   "file_extension": ".py",
   "mimetype": "text/x-python",
   "name": "python",
   "nbconvert_exporter": "python",
   "pygments_lexer": "ipython3",
   "version": "3.12.7"
  },
  "papermill": {
   "default_parameters": {},
   "duration": 106.495572,
   "end_time": "2024-11-20T20:25:09.867672",
   "environment_variables": {},
   "exception": null,
   "input_path": "__notebook__.ipynb",
   "output_path": "__notebook__.ipynb",
   "parameters": {},
   "start_time": "2024-11-20T20:23:23.372100",
   "version": "2.6.0"
  }
 },
 "nbformat": 4,
 "nbformat_minor": 5
}
